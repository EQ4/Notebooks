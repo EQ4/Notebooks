{
 "metadata": {
  "language": "Julia",
  "name": "",
  "signature": "sha256:fd6410c5f660b0c658d11374df3d52a817fc1828a608a83ae17e5d37a84b45f6"
 },
 "nbformat": 3,
 "nbformat_minor": 0,
 "worksheets": [
  {
   "cells": [
    {
     "cell_type": "code",
     "collapsed": false,
     "input": [
      "import DSP"
     ],
     "language": "python",
     "metadata": {},
     "outputs": [],
     "prompt_number": 70
    },
    {
     "cell_type": "markdown",
     "metadata": {},
     "source": [
      "## Setup Data\n",
      "We will create three vectors. `h` holds thefilter taps, and `x` is the data to be filtered.\n",
      "\n",
      "`state` contains the last `length(h) - 1` samples from the previous batch of data. We need `state` so we can filter a stream of samples in chuncks. Without it, there would be discontinuities in every batch from starup transients.  "
     ]
    },
    {
     "cell_type": "code",
     "collapsed": true,
     "input": [
      "T = Float64\n",
      "h = ones(T, 128) #float64([1:10])\n",
      "x = ones(T, 1_000_000) #float32([1:10_000])\n",
      "state = x[end-length(h)+2:end];"
     ],
     "language": "python",
     "metadata": {},
     "outputs": [],
     "prompt_number": 71
    },
    {
     "cell_type": "heading",
     "level": 2,
     "metadata": {},
     "source": [
      "Stateless FIR Filter"
     ]
    },
    {
     "cell_type": "heading",
     "level": 3,
     "metadata": {},
     "source": [
      "Out of Place"
     ]
    },
    {
     "cell_type": "code",
     "collapsed": false,
     "input": [
      "function fir_filter{T}( taps::Vector{T}, signal::Vector{T} )\n",
      "    @assert length(signal) > length(taps)\n",
      "    signal_len     = length( signal )\n",
      "    taps_len       = length( taps )\n",
      "    output_buffer  = zeros( T, signal_len )\n",
      "    for n = 1:taps_len-1\n",
      "        for m = 1:n\n",
      "            @inbounds output_buffer[n] += taps[m] * signal[n-m+1]\n",
      "        end\n",
      "    end\n",
      "    for n = taps_len:signal_len\n",
      "        base_sig_idx = n-taps_len\n",
      "        @simd for m = 1:taps_len\n",
      "            @inbounds output_buffer[n] += taps[m] * signal[base_sig_idx+m]\n",
      "        end\n",
      "    end\n",
      "    output_buffer\n",
      "end"
     ],
     "language": "python",
     "metadata": {},
     "outputs": [
      {
       "metadata": {},
       "output_type": "pyout",
       "prompt_number": 72,
       "text": [
        "fir_filter (generic function with 2 methods)"
       ]
      }
     ],
     "prompt_number": 72
    },
    {
     "cell_type": "heading",
     "level": 3,
     "metadata": {},
     "source": [
      "In Place"
     ]
    },
    {
     "cell_type": "code",
     "collapsed": false,
     "input": [
      "function fir_filt!{T}( taps::Vector{T}, signal::Vector{T} )\n",
      "    @assert length(signal) > length(taps)\n",
      "    signal_len     = length( signal )\n",
      "    taps_len       = length( taps )\n",
      "    \n",
      "    for n = signal_len:-1:taps_len\n",
      "        x = zero(T)\n",
      "        @simd for m = 1:taps_len\n",
      "            @inbounds x += taps[m] * signal[n-taps_len+m]\n",
      "        end\n",
      "        @inbounds signal[n] = x\n",
      "    end\n",
      "    for n = taps_len-1:-1:1\n",
      "        x = zero(T)\n",
      "        for m = 1:n\n",
      "            @inbounds x += taps[m] * signal[n-m+1]\n",
      "        end\n",
      "        @inbounds signal[n] = x\n",
      "    end\n",
      "end"
     ],
     "language": "python",
     "metadata": {},
     "outputs": [
      {
       "metadata": {},
       "output_type": "pyout",
       "prompt_number": 73,
       "text": [
        "fir_filt! (generic function with 1 method)"
       ]
      }
     ],
     "prompt_number": 73
    },
    {
     "cell_type": "heading",
     "level": 2,
     "metadata": {},
     "source": [
      "Benchmarks"
     ]
    },
    {
     "cell_type": "heading",
     "level": 3,
     "metadata": {},
     "source": [
      "Stateless Out of Place fir_filter"
     ]
    },
    {
     "cell_type": "code",
     "collapsed": false,
     "input": [
      "sffoop = @time fir_filter(h, x);"
     ],
     "language": "python",
     "metadata": {},
     "outputs": [
      {
       "output_type": "stream",
       "stream": "stdout",
       "text": [
        "elapsed time: 0."
       ]
      },
      {
       "output_type": "stream",
       "stream": "stdout",
       "text": [
        "174666914 seconds (8534340 bytes allocated)\n"
       ]
      }
     ],
     "prompt_number": 74
    },
    {
     "cell_type": "heading",
     "level": 3,
     "metadata": {},
     "source": [
      "Stateless In Place fir_filter"
     ]
    },
    {
     "cell_type": "code",
     "collapsed": false,
     "input": [
      "xx = copy(x)\n",
      "sffip = @time fir_filt!(h, xx)"
     ],
     "language": "python",
     "metadata": {},
     "outputs": [
      {
       "output_type": "stream",
       "stream": "stdout",
       "text": [
        "elapsed time: "
       ]
      },
      {
       "output_type": "stream",
       "stream": "stdout",
       "text": [
        "0.210202475 seconds (561360 bytes allocated)\n"
       ]
      }
     ],
     "prompt_number": 75
    },
    {
     "cell_type": "heading",
     "level": 3,
     "metadata": {},
     "source": [
      "Julia's Builtin `filt`"
     ]
    },
    {
     "cell_type": "code",
     "collapsed": false,
     "input": [
      "biff = @time filt(h, one(T), x);"
     ],
     "language": "python",
     "metadata": {},
     "outputs": [
      {
       "output_type": "stream",
       "stream": "stdout",
       "text": [
        "elapsed time: "
       ]
      },
      {
       "output_type": "stream",
       "stream": "stdout",
       "text": [
        "0.313620042 seconds (8001696 bytes allocated)\n"
       ]
      }
     ],
     "prompt_number": 76
    },
    {
     "cell_type": "heading",
     "level": 3,
     "metadata": {},
     "source": [
      "`DSP.jl`'s firfilt"
     ]
    },
    {
     "cell_type": "code",
     "collapsed": false,
     "input": [
      "dff = @time DSP.firfilt( h, x );"
     ],
     "language": "python",
     "metadata": {},
     "outputs": [
      {
       "output_type": "stream",
       "stream": "stdout",
       "text": [
        "elapsed time: "
       ]
      },
      {
       "output_type": "stream",
       "stream": "stdout",
       "text": [
        "0.277893359 seconds (8202512 bytes allocated)\n"
       ]
      }
     ],
     "prompt_number": 77
    },
    {
     "cell_type": "markdown",
     "metadata": {},
     "source": [
      "## Apple's vDSP `vDSP_desamp`\n",
      "\n",
      "    void vDSP_desamp (\n",
      "       \n",
      "       float       *__vDSP_A,  // Input signal\n",
      "       vDSP_Stride  __vDSP_I,  // Sampling interval\n",
      "       float       *__vDSP_F,  // Filter\n",
      "       float       *__vDSP_C,  // Output\n",
      "       vDSP_Length  __vDSP_N,  // Output length\n",
      "       vDSP_Length  __vDSP_P)  // Filter length\n",
      "    );\n"
     ]
    },
    {
     "cell_type": "code",
     "collapsed": false,
     "input": [
      "function vDSP_desamp( h::Vector{Float32}, x::Vector{Float32} )\n",
      "    h_len      = length( h )\n",
      "    x_len      = length( x )\n",
      "    out_buffer = Array( Float32, x_len )\n",
      "            h_len\n",
      "    )\n",
      "    #out_buffer\n",
      "end"
     ],
     "language": "python",
     "metadata": {},
     "outputs": [
      {
       "ename": "LoadError",
       "evalue": "syntax: unexpected \")\"\nwhile loading In[78], in expression starting on line 6",
       "output_type": "pyerr",
       "traceback": [
        "syntax: unexpected \")\"\nwhile loading In[78], in expression starting on line 6"
       ]
      }
     ],
     "prompt_number": 78
    },
    {
     "cell_type": "heading",
     "level": 2,
     "metadata": {},
     "source": [
      "Stateful FIR Filter Routine"
     ]
    },
    {
     "cell_type": "code",
     "collapsed": false,
     "input": [
      "function fir_filter{T}( h::Vector, signal::Vector{T}, state::Vector{T} )\n",
      "    @assert  length(state) == length(h) - 1\n",
      "    signal_length = length( signal ) \n",
      "    working_buffer = copy(state)\n",
      "    output_buffer  = Array( T,  )\n",
      "    append!(working_buffer, signal)\n",
      "    for i = 1:length(signal)\n",
      "        x = zero(T)\n",
      "        @simd for j = 0:length(h)-1\n",
      "            @inbounds output_buffer[i] += working_buffer[i+j]*h[j+1]\n",
      "        end\n",
      "    end\n",
      "    output_buffer\n",
      "end"
     ],
     "language": "python",
     "metadata": {},
     "outputs": [
      {
       "metadata": {},
       "output_type": "pyout",
       "prompt_number": 79,
       "text": [
        "fir_filter (generic function with 2 methods)"
       ]
      }
     ],
     "prompt_number": 79
    }
   ],
   "metadata": {}
  }
 ]
}