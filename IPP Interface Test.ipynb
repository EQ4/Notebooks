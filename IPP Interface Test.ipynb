{
 "metadata": {
  "language": "Julia",
  "name": "",
  "signature": "sha256:75a6b97d1067544ba7b9b3e4245840ec066aa1e040359307a680d69486321231"
 },
 "nbformat": 3,
 "nbformat_minor": 0,
 "worksheets": [
  {
   "cells": [
    {
     "cell_type": "code",
     "collapsed": false,
     "input": [
      "import Radio;"
     ],
     "language": "python",
     "metadata": {},
     "outputs": [],
     "prompt_number": 1
    },
    {
     "cell_type": "markdown",
     "metadata": {},
     "source": [
      "## Import [IPPDSP.jl](https://github.com/JayKickliter/IPPDSP.jl) Package"
     ]
    },
    {
     "cell_type": "code",
     "collapsed": false,
     "input": [
      "import IPPDSP"
     ],
     "language": "python",
     "metadata": {},
     "outputs": [],
     "prompt_number": 2
    },
    {
     "cell_type": "markdown",
     "metadata": {},
     "source": [
      "## Import [DSP.jl](https://github.com/JuliaDSP/DSP.jl) Package"
     ]
    },
    {
     "cell_type": "code",
     "collapsed": false,
     "input": [
      "import DSP"
     ],
     "language": "python",
     "metadata": {},
     "outputs": [],
     "prompt_number": 3
    },
    {
     "cell_type": "markdown",
     "metadata": {},
     "source": [
      "## Prepare Filter Taps and Signal"
     ]
    },
    {
     "cell_type": "code",
     "collapsed": false,
     "input": [
      "SignalType = Float32\n",
      "TapsType   = Float32\n",
      "Ntaps      = 56\n",
      "taps       = IPPDSP.FIRTapsLowpass( TapsType, Ntaps, 0.25, IPPDSP.WIN_HANN )\n",
      "signal     = ones( SignalType, 10_000_000 )\n",
      "buffer     = similar( signal )\n",
      "Radio.freqz( taps )"
     ],
     "language": "python",
     "metadata": {},
     "outputs": [
      {
       "metadata": {},
       "output_type": "pyout",
       "png": "[encoded data removed]",
       "prompt_number": 4,
       "text": [
        "Table(...)"
       ]
      }
     ],
     "prompt_number": 4
    },
    {
     "cell_type": "markdown",
     "metadata": {},
     "source": [
      "## Setup IPP FIR Filter"
     ]
    },
    {
     "cell_type": "code",
     "collapsed": false,
     "input": [
      "flt  = IPPDSP.FIRFilter( SignalType, taps );"
     ],
     "language": "python",
     "metadata": {},
     "outputs": [],
     "prompt_number": 5
    },
    {
     "cell_type": "markdown",
     "metadata": {},
     "source": [
      "## Native Julia Time-Domain `fir_filter!` & `fir_filter`\n",
      "\n",
      "### Two Versions\n",
      "* **`fir_filter!`**: Uses a pre-allocated buffer\n",
      "* **`fir_filter`**: Creates an output buffer and calls `fir_filter!`\n",
      "\n",
      "### Special Macros\n",
      "**`@inbounds`** to turn off bound checking. Since the vector lengths are checked before the loop, it is safe to do so. It also speeds up the code.\n",
      "\n",
      "**`@simd`** hints to the compiler that it the code lends itself to SIMD vectorization."
     ]
    },
    {
     "cell_type": "code",
     "collapsed": false,
     "input": [
      "function fir_filter!{T}( buffer::Vector{T}, taps::Vector{T}, signal::Vector{T} )\n",
      "    signal_len  = length( signal )\n",
      "    taps_len    = length( taps )\n",
      "    buf_len     = length( buffer )\n",
      "    signal_len >= taps_len && buf_len == signal_len || throw()\n",
      "    for n = 1:taps_len-1\n",
      "        for m = 1:n\n",
      "            @inbounds buffer[n] += taps[m] * signal[n-m+1]\n",
      "        end\n",
      "    end\n",
      "    @simd for n = taps_len:signal_len\n",
      "        base_sig_idx = n-taps_len\n",
      "        for m = 1:taps_len\n",
      "            @inbounds buffer[n] += taps[m] * signal[base_sig_idx+m]\n",
      "        end\n",
      "    end\n",
      "    return buffer\n",
      "end"
     ],
     "language": "python",
     "metadata": {},
     "outputs": [
      {
       "metadata": {},
       "output_type": "pyout",
       "prompt_number": 6,
       "text": [
        "fir_filter! (generic function with 1 method)"
       ]
      }
     ],
     "prompt_number": 6
    },
    {
     "cell_type": "code",
     "collapsed": false,
     "input": [
      "fir_filter{T}( taps::Vector{T}, signal::Vector{T} ) = fir_filter!( similar(signal), taps, signal )"
     ],
     "language": "python",
     "metadata": {},
     "outputs": [
      {
       "metadata": {},
       "output_type": "pyout",
       "prompt_number": 7,
       "text": [
        "fir_filter (generic function with 1 method)"
       ]
      }
     ],
     "prompt_number": 7
    },
    {
     "cell_type": "markdown",
     "metadata": {},
     "source": [
      "## Precompile Functions\n",
      "\n",
      "Not necessary, but it to get accurate first-run @time results. Using `taps` as a small signal-vector."
     ]
    },
    {
     "cell_type": "code",
     "collapsed": false,
     "input": [
      "x = ones(SignalType, 100)\n",
      "IPPDSP.filt( flt, x )\n",
      "IPPDSP.filt!( flt, buffer, x )\n",
      "filt( taps, one(TapsType), x )\n",
      "DSP.firfilt( taps, x )\n",
      "fir_filter( taps, x );"
     ],
     "language": "python",
     "metadata": {},
     "outputs": [],
     "prompt_number": 8
    },
    {
     "cell_type": "heading",
     "level": 2,
     "metadata": {},
     "source": [
      "Times"
     ]
    },
    {
     "cell_type": "markdown",
     "metadata": {},
     "source": [
      "### Julia's Built-in `filt()`\n",
      "\n",
      "Internally implemented with FFT convolution (I think)."
     ]
    },
    {
     "cell_type": "code",
     "collapsed": false,
     "input": [
      "@time filt( taps, one(taps[1]), signal );"
     ],
     "language": "python",
     "metadata": {},
     "outputs": [
      {
       "output_type": "stream",
       "stream": "stdout",
       "text": [
        "elapsed time: 0."
       ]
      },
      {
       "output_type": "stream",
       "stream": "stdout",
       "text": [
        "870111391 seconds (40054600 bytes allocated)\n"
       ]
      }
     ],
     "prompt_number": 9
    },
    {
     "cell_type": "heading",
     "level": 3,
     "metadata": {},
     "source": [
      "`DSP.firfilt()`"
     ]
    },
    {
     "cell_type": "code",
     "collapsed": false,
     "input": [
      "@time DSP.firfilt( taps, signal );"
     ],
     "language": "python",
     "metadata": {},
     "outputs": [
      {
       "output_type": "stream",
       "stream": "stdout",
       "text": [
        "elapsed time: "
       ]
      },
      {
       "output_type": "stream",
       "stream": "stdout",
       "text": [
        "0.247666487 seconds (43796900 bytes allocated)\n"
       ]
      }
     ],
     "prompt_number": 10
    },
    {
     "cell_type": "markdown",
     "metadata": {},
     "source": [
      "### `IPPDSP.filt()`\n",
      "\n",
      "Uses multiple dispatch to call the correct IPP function name."
     ]
    },
    {
     "cell_type": "code",
     "collapsed": false,
     "input": [
      "@time IPPDSP.filt( flt, signal );"
     ],
     "language": "python",
     "metadata": {},
     "outputs": [
      {
       "output_type": "stream",
       "stream": "stdout",
       "text": [
        "elapsed time: 0.064526985 seconds (40000128 bytes allocated)\n"
       ]
      }
     ],
     "prompt_number": 11
    },
    {
     "cell_type": "markdown",
     "metadata": {},
     "source": [
      "### `IPPDSP.filt!()`\n",
      "\n",
      "IPP has depreciated its in-place functions. `filt!` calls the same same IPP function as above, but with a pre-allocated buffer. It may be possible to pass the IPP function the same pointer for both source and destination; more testing needed."
     ]
    },
    {
     "cell_type": "code",
     "collapsed": false,
     "input": [
      "@time IPPDSP.filt!( flt, buffer, signal );"
     ],
     "language": "python",
     "metadata": {},
     "outputs": [
      {
       "output_type": "stream",
       "stream": "stdout",
       "text": [
        "elapsed time: "
       ]
      },
      {
       "output_type": "stream",
       "stream": "stdout",
       "text": [
        "0.058732127 seconds (80 bytes allocated)\n"
       ]
      }
     ],
     "prompt_number": 12
    },
    {
     "cell_type": "heading",
     "level": 3,
     "metadata": {},
     "source": [
      "Native `fir_filter()`"
     ]
    },
    {
     "cell_type": "code",
     "collapsed": false,
     "input": [
      "@time fir_filter( taps, signal );"
     ],
     "language": "python",
     "metadata": {},
     "outputs": [
      {
       "output_type": "stream",
       "stream": "stdout",
       "text": [
        "elapsed time: "
       ]
      },
      {
       "output_type": "stream",
       "stream": "stdout",
       "text": [
        "0.697271397 seconds (40183860 bytes allocated)\n"
       ]
      }
     ],
     "prompt_number": 13
    },
    {
     "cell_type": "heading",
     "level": 3,
     "metadata": {},
     "source": [
      "Native `fir_filter!()`"
     ]
    },
    {
     "cell_type": "code",
     "collapsed": false,
     "input": [
      "@time fir_filter!( buffer, taps, signal);"
     ],
     "language": "python",
     "metadata": {},
     "outputs": [
      {
       "output_type": "stream",
       "stream": "stdout",
       "text": [
        "elapsed time: "
       ]
      },
      {
       "output_type": "stream",
       "stream": "stdout",
       "text": [
        "0.548583521 seconds (80 bytes allocated)\n"
       ]
      }
     ],
     "prompt_number": 14
    }
   ],
   "metadata": {}
  }
 ]
}