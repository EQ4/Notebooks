{
 "metadata": {
  "name": "",
  "signature": "sha256:2298dc34be39054d18a62cad83e08569ff04197452e9bbba27d58bca49ee7575"
 },
 "nbformat": 3,
 "nbformat_minor": 0,
 "worksheets": []
}